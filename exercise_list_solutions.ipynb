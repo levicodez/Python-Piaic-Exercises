{
 "cells": [
  {
   "cell_type": "markdown",
   "metadata": {},
   "source": [
    "# Python Exercises on Lists"
   ]
  },
  {
   "cell_type": "markdown",
   "metadata": {},
   "source": [
    "### Exercise 3-1: Names\n",
    "##### Task: Store the names of a few of your friends in a list called names. Print each person’s name by accessing each element in the list, one at a time."
   ]
  },
  {
   "cell_type": "code",
   "execution_count": 1,
   "metadata": {},
   "outputs": [
    {
     "name": "stdout",
     "output_type": "stream",
     "text": [
      "Moiz\n",
      "Hammad\n",
      "Ayaan\n"
     ]
    }
   ],
   "source": [
    "names : list[str] = [\"Moiz\", \"Hammad\", \"Ayaan\"]\n",
    "print(names[0])\n",
    "print(names[1])\n",
    "print(names[2])"
   ]
  },
  {
   "cell_type": "markdown",
   "metadata": {},
   "source": [
    "### Exercise 3-2: Greetings\n",
    "##### Task: Start with the list you used in Exercise 3-1. Instead of just printing each person’s name, print a message to them. The text of each message should be the same, but each message should be personalized with the person’s name."
   ]
  },
  {
   "cell_type": "code",
   "execution_count": 4,
   "metadata": {},
   "outputs": [
    {
     "name": "stdout",
     "output_type": "stream",
     "text": [
      "Hello, Moiz. How are you?\n",
      "Hello, Hammad. How are you?\n",
      "Hello, Ayaan. How are you?\n"
     ]
    }
   ],
   "source": [
    "names : list[str] = [\"Moiz\" , \"Hammad\" , \"Ayaan\"]\n",
    "print(f\"Hello, {names[0]}. How are you?\")\n",
    "print(f\"Hello, {names[1]}. How are you?\")\n",
    "print(f\"Hello, {names[2]}. How are you?\")"
   ]
  },
  {
   "cell_type": "markdown",
   "metadata": {},
   "source": [
    "### Exercise 3-3: Your Own List\n",
    "##### Task: Think of your favorite mode of transportation, such as a motorcycle or a car, and make a list that stores several examples. Use your list to print a series of statements about these items, such as “I would like to own a Honda motorcycle.”"
   ]
  },
  {
   "cell_type": "code",
   "execution_count": 6,
   "metadata": {},
   "outputs": [
    {
     "name": "stdout",
     "output_type": "stream",
     "text": [
      "I would like to own a Motorcycle.\n",
      "I would like to own a Car.\n",
      "I would like to own a Bus.\n",
      "I would like to own a Civic.\n"
     ]
    }
   ],
   "source": [
    "vehicles : list[str] = [\"Motorcycle\" , \"Car\" , \"Bus\" , \"Civic\"]\n",
    "print(f\"I would like to own a {vehicles[0]}.\")\n",
    "print(f\"I would like to own a {vehicles[1]}.\")\n",
    "print(f\"I would like to own a {vehicles[2]}.\")\n",
    "print(f\"I would like to own a {vehicles[3]}.\")"
   ]
  },
  {
   "cell_type": "markdown",
   "metadata": {},
   "source": [
    "### Exercise 3-4: Guest List\n",
    "##### Task: If you could invite anyone, living or deceased, to dinner, who would you invite? Make a list that includes at least three people you’d like to invite to dinner. Then use your list to print a message to each person, inviting them to dinner."
   ]
  },
  {
   "cell_type": "code",
   "execution_count": 7,
   "metadata": {},
   "outputs": [
    {
     "name": "stdout",
     "output_type": "stream",
     "text": [
      "Dear Hammad, you are invited to join us at dinner.\n",
      "Dear Ali, you are invited to join us at dinner.\n",
      "Dear Sohaib, you are invited to join us at dinner.\n",
      "Dear Arham, you are invited to join us at dinner.\n"
     ]
    }
   ],
   "source": [
    "dinner_guests : list[str] = [\"Hammad\" , \"Ali\" , \"Sohaib\" , \"Arham\"]\n",
    "print(f\"Dear {dinner_guests[0]}, you are invited to join us at dinner.\")\n",
    "print(f\"Dear {dinner_guests[1]}, you are invited to join us at dinner.\")\n",
    "print(f\"Dear {dinner_guests[2]}, you are invited to join us at dinner.\")\n",
    "print(f\"Dear {dinner_guests[3]}, you are invited to join us at dinner.\")"
   ]
  },
  {
   "cell_type": "markdown",
   "metadata": {},
   "source": [
    "### Exercise 3-5: Changing Guest List\n",
    "##### Task: Start with your program from Exercise 3-4. Add a print() call at the end of your program, stating the name of the guest who can’t make it. Modify your list, replacing the name of the guest who can’t make it with the name of the new person you are inviting. Print a second set of invitation messages, one for each person who is still in your list."
   ]
  },
  {
   "cell_type": "code",
   "execution_count": 10,
   "metadata": {},
   "outputs": [
    {
     "name": "stdout",
     "output_type": "stream",
     "text": [
      "Dear Hammad, you are invited to join us at dinner.\n",
      "Dear Ali, you are invited to join us at dinner.\n",
      "Dear Sohaib, you are invited to join us at dinner.\n",
      "Dear Arham, you are invited to join us at dinner.\n",
      "\n",
      "Sorry, Sohaib, you can't make it.\n",
      "\n",
      "Dear Hammad, you are invited to join us at dinner.\n",
      "Dear Ali, you are invited to join us at dinner.\n",
      "Dear Moiz, you are invited to join us at dinner.\n",
      "Dear Arham, you are invited to join us at dinner.\n"
     ]
    }
   ],
   "source": [
    "dinner_guests : list[str] = [\"Hammad\" , \"Ali\" , \"Sohaib\" , \"Arham\"]\n",
    "print(f\"Dear {dinner_guests[0]}, you are invited to join us at dinner.\")\n",
    "print(f\"Dear {dinner_guests[1]}, you are invited to join us at dinner.\")\n",
    "print(f\"Dear {dinner_guests[2]}, you are invited to join us at dinner.\")\n",
    "print(f\"Dear {dinner_guests[3]}, you are invited to join us at dinner.\")\n",
    "\n",
    "print(f\"\\nSorry, {dinner_guests[2]}, you can't make it.\\n\")\n",
    "\n",
    "dinner_guests[2] = \"Moiz\"\n",
    "\n",
    "print(f\"Dear {dinner_guests[0]}, you are invited to join us at dinner.\")\n",
    "print(f\"Dear {dinner_guests[1]}, you are invited to join us at dinner.\")\n",
    "print(f\"Dear {dinner_guests[2]}, you are invited to join us at dinner.\")\n",
    "print(f\"Dear {dinner_guests[3]}, you are invited to join us at dinner.\")"
   ]
  },
  {
   "cell_type": "markdown",
   "metadata": {},
   "source": [
    "### Exercise 3-6: More Guests\n",
    "##### Task: Start with your program from Exercise 3-4 or 3-5. Add a print() call to the end of your program, informing people that you found a bigger table. Use insert() to add one new guest to the beginning of your list. Use insert() to add one new guest to the middle of your list. Use append() to add one new guest to the end of your list. Print a new set of invitation messages, one for each person in your list."
   ]
  },
  {
   "cell_type": "code",
   "execution_count": 22,
   "metadata": {},
   "outputs": [
    {
     "name": "stdout",
     "output_type": "stream",
     "text": [
      "Dear Hammad, you are invited to join us at dinner.\n",
      "Dear Ali, you are invited to join us at dinner.\n",
      "Dear Sohaib, you are invited to join us at dinner.\n",
      "Dear Arham, you are invited to join us at dinner.\n",
      "\n",
      "Sorry, Sohaib, you can't make it.\n",
      "\n",
      "Dear Hammad, you are invited to join us at dinner.\n",
      "Dear Ali, you are invited to join us at dinner.\n",
      "Dear Moiz, you are invited to join us at dinner.\n",
      "Dear Arham, you are invited to join us at dinner.\n",
      "\n",
      "Good news!We have found a bigger table now.\n",
      "\n",
      "Dear Subhan, you are invited to join us at dinner.\n",
      "Dear Hammad, you are invited to join us at dinner.\n",
      "Dear Mohsin, you are invited to join us at dinner.\n",
      "Dear Ali, you are invited to join us at dinner.\n",
      "Dear Moiz, you are invited to join us at dinner.\n",
      "Dear Arham, you are invited to join us at dinner.\n",
      "Dear Abbas, you are invited to join us at dinner.\n"
     ]
    }
   ],
   "source": [
    "dinner_guests : list[str] = [\"Hammad\" , \"Ali\" , \"Sohaib\" , \"Arham\"]\n",
    "print(f\"Dear {dinner_guests[0]}, you are invited to join us at dinner.\")\n",
    "print(f\"Dear {dinner_guests[1]}, you are invited to join us at dinner.\")\n",
    "print(f\"Dear {dinner_guests[2]}, you are invited to join us at dinner.\")\n",
    "print(f\"Dear {dinner_guests[3]}, you are invited to join us at dinner.\")\n",
    "\n",
    "print(f\"\\nSorry, {dinner_guests[2]}, you can't make it.\\n\")\n",
    "\n",
    "dinner_guests[2] = \"Moiz\"\n",
    "\n",
    "print(f\"Dear {dinner_guests[0]}, you are invited to join us at dinner.\")\n",
    "print(f\"Dear {dinner_guests[1]}, you are invited to join us at dinner.\")\n",
    "print(f\"Dear {dinner_guests[2]}, you are invited to join us at dinner.\")\n",
    "print(f\"Dear {dinner_guests[3]}, you are invited to join us at dinner.\")\n",
    "\n",
    "print(\"\\nGood news!We have found a bigger table now.\\n\")\n",
    "\n",
    "dinner_guests.insert(0,\"Subhan\")\n",
    "dinner_guests.insert(2,\"Mohsin\")\n",
    "dinner_guests.append(\"Abbas\")\n",
    "\n",
    "print(f\"Dear {dinner_guests[0]}, you are invited to join us at dinner.\")\n",
    "print(f\"Dear {dinner_guests[1]}, you are invited to join us at dinner.\")\n",
    "print(f\"Dear {dinner_guests[2]}, you are invited to join us at dinner.\")\n",
    "print(f\"Dear {dinner_guests[3]}, you are invited to join us at dinner.\")\n",
    "print(f\"Dear {dinner_guests[4]}, you are invited to join us at dinner.\")\n",
    "print(f\"Dear {dinner_guests[5]}, you are invited to join us at dinner.\")\n",
    "print(f\"Dear {dinner_guests[6]}, you are invited to join us at dinner.\")"
   ]
  },
  {
   "cell_type": "markdown",
   "metadata": {},
   "source": [
    "### Exercise 3-7: Shrinking Guest List\n",
    "##### Task: Start with your program from Exercise 3-6. Add a new line that prints a message saying that you can invite only two people for dinner. Use pop() to remove guests from your list one at a time until only two names remain in your list. Each time you pop a name from your list, print a message to that person letting them know you’re sorry you can’t invite them to dinner. Print a message to each of the two people still on your list, letting them know they’re still invited. Use del to remove the last two names from your list, so you have an empty list. Print your list to make sure you actually have an empty list at the end of your program."
   ]
  },
  {
   "cell_type": "code",
   "execution_count": 29,
   "metadata": {},
   "outputs": [
    {
     "name": "stdout",
     "output_type": "stream",
     "text": [
      "Dear Hammad, you are invited to join us at dinner.\n",
      "Dear Ali, you are invited to join us at dinner.\n",
      "Dear Sohaib, you are invited to join us at dinner.\n",
      "Dear Arham, you are invited to join us at dinner.\n",
      "\n",
      "Sorry, Sohaib, you can't make it.\n",
      "\n",
      "Dear Hammad, you are invited to join us at dinner.\n",
      "Dear Ali, you are invited to join us at dinner.\n",
      "Dear Moiz, you are invited to join us at dinner.\n",
      "Dear Arham, you are invited to join us at dinner.\n",
      "\n",
      "Good news!We have found a bigger table now.\n",
      "\n",
      "Dear Subhan, you are invited to join us at dinner.\n",
      "Dear Hammad, you are invited to join us at dinner.\n",
      "Dear Mohsin, you are invited to join us at dinner.\n",
      "Dear Ali, you are invited to join us at dinner.\n",
      "Dear Moiz, you are invited to join us at dinner.\n",
      "Dear Arham, you are invited to join us at dinner.\n",
      "Dear Abbas, you are invited to join us at dinner.\n",
      "\n",
      "Sorry, We can only invite two people for dinner now.\n",
      "\n",
      "Sorry,Abbas, you are not invited to the dinner.\n",
      "Sorry,Arham, you are not invited to the dinner.\n",
      "Sorry,Moiz, you are not invited to the dinner.\n",
      "Sorry,Ali, you are not invited to the dinner.\n",
      "Sorry,Mohsin, you are not invited to the dinner.\n",
      "\n",
      "Dear Subhan, you are still invited to join us at dinner.\n",
      "Dear Hammad, you are still invited to join us at dinner.\n"
     ]
    },
    {
     "data": {
      "text/plain": [
       "[]"
      ]
     },
     "execution_count": 29,
     "metadata": {},
     "output_type": "execute_result"
    }
   ],
   "source": [
    "dinner_guests : list[str] = [\"Hammad\" , \"Ali\" , \"Sohaib\" , \"Arham\"]\n",
    "print(f\"Dear {dinner_guests[0]}, you are invited to join us at dinner.\")\n",
    "print(f\"Dear {dinner_guests[1]}, you are invited to join us at dinner.\")\n",
    "print(f\"Dear {dinner_guests[2]}, you are invited to join us at dinner.\")\n",
    "print(f\"Dear {dinner_guests[3]}, you are invited to join us at dinner.\")\n",
    "\n",
    "print(f\"\\nSorry, {dinner_guests[2]}, you can't make it.\\n\")\n",
    "\n",
    "dinner_guests[2] = \"Moiz\"\n",
    "\n",
    "print(f\"Dear {dinner_guests[0]}, you are invited to join us at dinner.\")\n",
    "print(f\"Dear {dinner_guests[1]}, you are invited to join us at dinner.\")\n",
    "print(f\"Dear {dinner_guests[2]}, you are invited to join us at dinner.\")\n",
    "print(f\"Dear {dinner_guests[3]}, you are invited to join us at dinner.\")\n",
    "\n",
    "print(\"\\nGood news!We have found a bigger table now.\\n\")\n",
    "\n",
    "dinner_guests.insert(0,\"Subhan\")\n",
    "dinner_guests.insert(2,\"Mohsin\")\n",
    "dinner_guests.append(\"Abbas\")\n",
    "\n",
    "print(f\"Dear {dinner_guests[0]}, you are invited to join us at dinner.\")\n",
    "print(f\"Dear {dinner_guests[1]}, you are invited to join us at dinner.\")\n",
    "print(f\"Dear {dinner_guests[2]}, you are invited to join us at dinner.\")\n",
    "print(f\"Dear {dinner_guests[3]}, you are invited to join us at dinner.\")\n",
    "print(f\"Dear {dinner_guests[4]}, you are invited to join us at dinner.\")\n",
    "print(f\"Dear {dinner_guests[5]}, you are invited to join us at dinner.\")\n",
    "print(f\"Dear {dinner_guests[6]}, you are invited to join us at dinner.\")\n",
    "\n",
    "print(\"\\nSorry, We can only invite two people for dinner now.\\n\")\n",
    "\n",
    "removed_guest:str = dinner_guests.pop()\n",
    "print(f\"Sorry,{removed_guest}, you are not invited to the dinner.\")\n",
    "removed_guest:str = dinner_guests.pop()\n",
    "print(f\"Sorry,{removed_guest}, you are not invited to the dinner.\")\n",
    "removed_guest:str = dinner_guests.pop()\n",
    "print(f\"Sorry,{removed_guest}, you are not invited to the dinner.\")\n",
    "removed_guest:str = dinner_guests.pop()\n",
    "print(f\"Sorry,{removed_guest}, you are not invited to the dinner.\")\n",
    "removed_guest:str = dinner_guests.pop()\n",
    "print(f\"Sorry,{removed_guest}, you are not invited to the dinner.\\n\")\n",
    "\n",
    "print(f\"Dear {dinner_guests[0]}, you are still invited to join us at dinner.\")\n",
    "print(f\"Dear {dinner_guests[1]}, you are still invited to join us at dinner.\")\n",
    "\n",
    "del dinner_guests[0]\n",
    "del dinner_guests[0]\n",
    "\n",
    "dinner_guests"
   ]
  },
  {
   "cell_type": "markdown",
   "metadata": {},
   "source": [
    "### Exercise 3-8: Seeing the World\n",
    "##### Task: Think of at least five places in the world you’d like to visit. Store the locations in a list. Make sure the list is not in alphabetical order. Print your list in its original order. Don’t worry about printing the list neatly; just print it as a raw Python list. Use sorted() to print your list in alphabetical order without modifying the actual list. Show that your list is still in its original order by printing it. Use sorted() to print your list in reverse-alphabetical order without changing the order of the original list. Show that your list is still in its original order by printing it again. Use reverse() to change the order of your list. Print the list to show that its order has changed. Use reverse() to change the order of your list again. Print the list to show it’s back to its original order. Use sort() to change your list so it’s stored in alphabetical order. Print the list to show that its order has been changed. Use sort() to change your list so it’s stored in reverse-alphabetical order. Print the list to show that its order has changed."
   ]
  },
  {
   "cell_type": "code",
   "execution_count": 63,
   "metadata": {},
   "outputs": [
    {
     "name": "stdout",
     "output_type": "stream",
     "text": [
      "Original list : ['Germany', 'France', 'Italy', 'New York', 'Japan']\n",
      "List in alphabetical order : ['France', 'Germany', 'Italy', 'Japan', 'New York']\n",
      "List is still in its original order : ['Germany', 'France', 'Italy', 'New York', 'Japan']\n",
      "List in reverse-alphabetical order : ['New York', 'Japan', 'Italy', 'Germany', 'France']\n",
      "List is still in its original order : ['Germany', 'France', 'Italy', 'New York', 'Japan']\n",
      "List after using reverse() : ['Japan', 'New York', 'Italy', 'France', 'Germany']\n",
      "After using reverse(), list order has been changed : ['Japan', 'New York', 'Italy', 'France', 'Germany']\n",
      "List after again using reverse() : ['Germany', 'France', 'Italy', 'New York', 'Japan']\n",
      "Now the list is again in it's original order : ['Germany', 'France', 'Italy', 'New York', 'Japan']\n",
      "List after using sort() : ['France', 'Germany', 'Italy', 'Japan', 'New York']\n",
      "After using sort(), list order has been changed : ['France', 'Germany', 'Italy', 'Japan', 'New York']\n",
      "List after again using sort() : ['New York', 'Japan', 'Italy', 'Germany', 'France']\n",
      "Now the list order again changed : ['New York', 'Japan', 'Italy', 'Germany', 'France']\n"
     ]
    }
   ],
   "source": [
    "places_to_visit:list[str] = [\"Germany\",\"France\",\"Italy\",\"New York\",\"Japan\"]\n",
    "\n",
    "print(f\"Original list : {places_to_visit}\")\n",
    "print(f\"List in alphabetical order : {sorted(places_to_visit)}\")\n",
    "print(f\"List is still in its original order : {places_to_visit}\")\n",
    "print(f\"List in reverse-alphabetical order : {sorted(places_to_visit,reverse=True)}\")\n",
    "print(f\"List is still in its original order : {places_to_visit}\")\n",
    "places_to_visit.reverse()\n",
    "print(f\"List after using reverse() : {places_to_visit}\")\n",
    "print(f\"After using reverse(), list order has been changed : {places_to_visit}\")\n",
    "places_to_visit.reverse()\n",
    "print(f\"List after again using reverse() : {places_to_visit}\")\n",
    "print(f\"Now the list is again in it's original order : {places_to_visit}\")\n",
    "places_to_visit.sort()\n",
    "print(f\"List after using sort() : {places_to_visit}\")\n",
    "print(f\"After using sort(), list order has been changed : {places_to_visit}\")\n",
    "places_to_visit.sort(reverse=True)\n",
    "print(f\"List after again using sort() : {places_to_visit}\")\n",
    "print(f\"Now the list order again changed : {places_to_visit}\")"
   ]
  },
  {
   "cell_type": "markdown",
   "metadata": {},
   "source": [
    "### Exercise 3-9: Every Function\n",
    "##### Task: Think of things you could store in a list. For example, you could make a list of mountains, rivers, countries, cities, languages, or anything else you’d like. Write a program that creates a list containing these items and then uses each function introduced in this chapter at least once."
   ]
  },
  {
   "cell_type": "code",
   "execution_count": 74,
   "metadata": {},
   "outputs": [
    {
     "name": "stdout",
     "output_type": "stream",
     "text": [
      "After using sorted : ['Javascript', 'K-2', 'Karachi', 'Lahore', 'Mount Everest', 'Python', 'Urdu']\n",
      "After using sorted(reverse = True) : ['Urdu', 'Python', 'Mount Everest', 'Lahore', 'Karachi', 'K-2', 'Javascript']\n",
      "After using reverse : ['Javascript', 'Urdu', 'Python', 'Karachi', 'Lahore', 'Mount Everest', 'K-2']\n",
      "After using sort : ['Javascript', 'K-2', 'Karachi', 'Lahore', 'Mount Everest', 'Python', 'Urdu']\n",
      "After using sort(reverse = True) : ['Urdu', 'Python', 'Mount Everest', 'Lahore', 'Karachi', 'K-2', 'Javascript']\n",
      "After using insert() : ['Germany', 'Urdu', 'Python', 'Mount Everest', 'Lahore', 'Karachi', 'K-2', 'Javascript']\n",
      "After using pop() : Javascript\n",
      "List : ['Germany', 'Urdu', 'Python', 'Mount Everest', 'Lahore', 'Karachi', 'K-2']\n"
     ]
    }
   ],
   "source": [
    "things: list[str] = [\"K-2\", \"Mount Everest\", \"Lahore\",\n",
    "                     \"Karachi\", \"Python\", \"Urdu\", \"Javascript\"]\n",
    "print(f\"After using sorted : {sorted(things)}\")\n",
    "print(f\"After using sorted(reverse = True) : {sorted(things, reverse=True)}\")\n",
    "things.reverse()\n",
    "print(f\"After using reverse : {things}\")\n",
    "things.sort()\n",
    "print(f\"After using sort : {things}\")\n",
    "things.sort(reverse=True)\n",
    "print(f\"After using sort(reverse = True) : {things}\")\n",
    "things.insert(0,\"Germany\")\n",
    "print(f\"After using insert() : {things}\")\n",
    "print(f\"After using pop() : {things.pop()}\")\n",
    "print(f\"List : {things}\")"
   ]
  },
  {
   "cell_type": "markdown",
   "metadata": {},
   "source": [
    "### Exercise 3-10: Intentional Error\n",
    "##### Task: If you haven’t received an index error in one of your programs yet, try to make one happen. Change an index in one of your programs to produce an index error. Make sure you correct the error before closing the program."
   ]
  },
  {
   "cell_type": "code",
   "execution_count": 78,
   "metadata": {},
   "outputs": [
    {
     "name": "stdout",
     "output_type": "stream",
     "text": [
      "Hello, Moiz. How are you?\n",
      "Hello, Ayaan. How are you?\n",
      "Hello, Ayaan. How are you?\n"
     ]
    }
   ],
   "source": [
    "names : list[str] = [\"Moiz\" , \"Hammad\" , \"Ayaan\"]\n",
    "print(f\"Hello, {names[0]}. How are you?\")\n",
    "# print(names[4])==>Error\n",
    "print(f\"Hello, {names[2]}. How are you?\")\n",
    "print(f\"Hello, {names[2]}. How are you?\")"
   ]
  }
 ],
 "metadata": {
  "kernelspec": {
   "display_name": "python12",
   "language": "python",
   "name": "python3"
  },
  "language_info": {
   "codemirror_mode": {
    "name": "ipython",
    "version": 3
   },
   "file_extension": ".py",
   "mimetype": "text/x-python",
   "name": "python",
   "nbconvert_exporter": "python",
   "pygments_lexer": "ipython3",
   "version": "3.12.0"
  }
 },
 "nbformat": 4,
 "nbformat_minor": 2
}
